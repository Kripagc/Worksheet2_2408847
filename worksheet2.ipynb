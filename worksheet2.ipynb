{
  "nbformat": 4,
  "nbformat_minor": 0,
  "metadata": {
    "colab": {
      "provenance": []
    },
    "kernelspec": {
      "name": "python3",
      "display_name": "Python 3"
    },
    "language_info": {
      "name": "python"
    }
  },
  "cells": [
    {
      "cell_type": "code",
      "source": [
        "#TO-Do Tasks\n",
        "\n",
        "\n",
        "#3.1\n",
        "import pandas as pd\n",
        "df = pd.read_csv('/content/drive/MyDrive/Concept and technologies of AI/bank .csv')\n",
        "#2a\n",
        "df.columns.unique()\n",
        "df.isnull().sum()"
      ],
      "metadata": {
        "colab": {
          "base_uri": "https://localhost:8080/",
          "height": 618
        },
        "id": "GfVbgvdD5q1-",
        "outputId": "4b86b224-f96e-4a8b-f98c-1033216c96fe"
      },
      "execution_count": null,
      "outputs": [
        {
          "output_type": "execute_result",
          "data": {
            "text/plain": [
              "age          0\n",
              "job          0\n",
              "marital      0\n",
              "education    0\n",
              "default      0\n",
              "balance      0\n",
              "housing      0\n",
              "loan         0\n",
              "contact      0\n",
              "day          0\n",
              "month        0\n",
              "duration     0\n",
              "campaign     0\n",
              "pdays        0\n",
              "previous     0\n",
              "poutcome     0\n",
              "y            0\n",
              "dtype: int64"
            ],
            "text/html": [
              "<div>\n",
              "<style scoped>\n",
              "    .dataframe tbody tr th:only-of-type {\n",
              "        vertical-align: middle;\n",
              "    }\n",
              "\n",
              "    .dataframe tbody tr th {\n",
              "        vertical-align: top;\n",
              "    }\n",
              "\n",
              "    .dataframe thead th {\n",
              "        text-align: right;\n",
              "    }\n",
              "</style>\n",
              "<table border=\"1\" class=\"dataframe\">\n",
              "  <thead>\n",
              "    <tr style=\"text-align: right;\">\n",
              "      <th></th>\n",
              "      <th>0</th>\n",
              "    </tr>\n",
              "  </thead>\n",
              "  <tbody>\n",
              "    <tr>\n",
              "      <th>age</th>\n",
              "      <td>0</td>\n",
              "    </tr>\n",
              "    <tr>\n",
              "      <th>job</th>\n",
              "      <td>0</td>\n",
              "    </tr>\n",
              "    <tr>\n",
              "      <th>marital</th>\n",
              "      <td>0</td>\n",
              "    </tr>\n",
              "    <tr>\n",
              "      <th>education</th>\n",
              "      <td>0</td>\n",
              "    </tr>\n",
              "    <tr>\n",
              "      <th>default</th>\n",
              "      <td>0</td>\n",
              "    </tr>\n",
              "    <tr>\n",
              "      <th>balance</th>\n",
              "      <td>0</td>\n",
              "    </tr>\n",
              "    <tr>\n",
              "      <th>housing</th>\n",
              "      <td>0</td>\n",
              "    </tr>\n",
              "    <tr>\n",
              "      <th>loan</th>\n",
              "      <td>0</td>\n",
              "    </tr>\n",
              "    <tr>\n",
              "      <th>contact</th>\n",
              "      <td>0</td>\n",
              "    </tr>\n",
              "    <tr>\n",
              "      <th>day</th>\n",
              "      <td>0</td>\n",
              "    </tr>\n",
              "    <tr>\n",
              "      <th>month</th>\n",
              "      <td>0</td>\n",
              "    </tr>\n",
              "    <tr>\n",
              "      <th>duration</th>\n",
              "      <td>0</td>\n",
              "    </tr>\n",
              "    <tr>\n",
              "      <th>campaign</th>\n",
              "      <td>0</td>\n",
              "    </tr>\n",
              "    <tr>\n",
              "      <th>pdays</th>\n",
              "      <td>0</td>\n",
              "    </tr>\n",
              "    <tr>\n",
              "      <th>previous</th>\n",
              "      <td>0</td>\n",
              "    </tr>\n",
              "    <tr>\n",
              "      <th>poutcome</th>\n",
              "      <td>0</td>\n",
              "    </tr>\n",
              "    <tr>\n",
              "      <th>y</th>\n",
              "      <td>0</td>\n",
              "    </tr>\n",
              "  </tbody>\n",
              "</table>\n",
              "</div><br><label><b>dtype:</b> int64</label>"
            ]
          },
          "metadata": {},
          "execution_count": 5
        }
      ]
    },
    {
      "cell_type": "code",
      "source": [
        "#2a\n",
        "objCol = df.select_dtypes(include=['object']).columns\n",
        "print(\"Columns with dtype=object:\")\n",
        "print(objCol)\n",
        "\n",
        "#3\n",
        "numeric_df = df.drop(columns = objCol)\n",
        "numeric_df.to_csv(\"banknumericdata.csv\")\n",
        "print(\"Numeric DataFrame saved as 'banknumericdata.csv'.\\n\")\n",
        "\n",
        "#4\n",
        "numeric_data = pd.read_csv(\"banknumericdata.csv\")\n",
        "print(\"Summary stats of banknumericdata.csv:\")\n",
        "print(numeric_data.describe())"
      ],
      "metadata": {
        "id": "8fUC91Hf51a6",
        "colab": {
          "base_uri": "https://localhost:8080/"
        },
        "outputId": "49fb7bfd-e88e-4ff0-d7b8-bebf4295b703"
      },
      "execution_count": 6,
      "outputs": [
        {
          "output_type": "stream",
          "name": "stdout",
          "text": [
            "Columns with dtype=object:\n",
            "Index(['job', 'marital', 'education', 'default', 'housing', 'loan', 'contact',\n",
            "       'month', 'poutcome', 'y'],\n",
            "      dtype='object')\n",
            "Numeric DataFrame saved as 'banknumericdata.csv'.\n",
            "\n",
            "Summary stats of banknumericdata.csv:\n",
            "         Unnamed: 0           age        balance           day      duration  \\\n",
            "count  45211.000000  45211.000000   45211.000000  45211.000000  45211.000000   \n",
            "mean   22605.000000     40.936210    1362.272058     15.806419    258.163080   \n",
            "std    13051.435847     10.618762    3044.765829      8.322476    257.527812   \n",
            "min        0.000000     18.000000   -8019.000000      1.000000      0.000000   \n",
            "25%    11302.500000     33.000000      72.000000      8.000000    103.000000   \n",
            "50%    22605.000000     39.000000     448.000000     16.000000    180.000000   \n",
            "75%    33907.500000     48.000000    1428.000000     21.000000    319.000000   \n",
            "max    45210.000000     95.000000  102127.000000     31.000000   4918.000000   \n",
            "\n",
            "           campaign         pdays      previous  \n",
            "count  45211.000000  45211.000000  45211.000000  \n",
            "mean       2.763841     40.197828      0.580323  \n",
            "std        3.098021    100.128746      2.303441  \n",
            "min        1.000000     -1.000000      0.000000  \n",
            "25%        1.000000     -1.000000      0.000000  \n",
            "50%        2.000000     -1.000000      0.000000  \n",
            "75%        3.000000     -1.000000      0.000000  \n",
            "max       63.000000    871.000000    275.000000  \n"
          ]
        }
      ]
    },
    {
      "cell_type": "code",
      "source": [
        "#problem2\n",
        "import pandas as pd\n",
        "df_med = pd.read_csv('/content/drive/MyDrive/Concept and technologies of AI/medical_students_dataset.csv');\n",
        "df.info()\n",
        "\n",
        "missingValue = df.isnull().sum()\n",
        "print(missingValue)"
      ],
      "metadata": {
        "colab": {
          "base_uri": "https://localhost:8080/"
        },
        "id": "-TLsHwAz8lo_",
        "outputId": "ad0fc360-b3f5-4ac3-a37e-7766459c3115"
      },
      "execution_count": 8,
      "outputs": [
        {
          "output_type": "stream",
          "name": "stdout",
          "text": [
            "<class 'pandas.core.frame.DataFrame'>\n",
            "RangeIndex: 45211 entries, 0 to 45210\n",
            "Data columns (total 17 columns):\n",
            " #   Column     Non-Null Count  Dtype \n",
            "---  ------     --------------  ----- \n",
            " 0   age        45211 non-null  int64 \n",
            " 1   job        45211 non-null  object\n",
            " 2   marital    45211 non-null  object\n",
            " 3   education  45211 non-null  object\n",
            " 4   default    45211 non-null  object\n",
            " 5   balance    45211 non-null  int64 \n",
            " 6   housing    45211 non-null  object\n",
            " 7   loan       45211 non-null  object\n",
            " 8   contact    45211 non-null  object\n",
            " 9   day        45211 non-null  int64 \n",
            " 10  month      45211 non-null  object\n",
            " 11  duration   45211 non-null  int64 \n",
            " 12  campaign   45211 non-null  int64 \n",
            " 13  pdays      45211 non-null  int64 \n",
            " 14  previous   45211 non-null  int64 \n",
            " 15  poutcome   45211 non-null  object\n",
            " 16  y          45211 non-null  object\n",
            "dtypes: int64(7), object(10)\n",
            "memory usage: 5.9+ MB\n",
            "age          0\n",
            "job          0\n",
            "marital      0\n",
            "education    0\n",
            "default      0\n",
            "balance      0\n",
            "housing      0\n",
            "loan         0\n",
            "contact      0\n",
            "day          0\n",
            "month        0\n",
            "duration     0\n",
            "campaign     0\n",
            "pdays        0\n",
            "previous     0\n",
            "poutcome     0\n",
            "y            0\n",
            "dtype: int64\n"
          ]
        }
      ]
    },
    {
      "cell_type": "code",
      "source": [
        "#problem2 3\n",
        "for col in missingValue.index:\n",
        "  if df[col].dtype == \"int64\":\n",
        "    df[col].fillna(df[col].mean())  #numeric columns\n",
        "    print(f\"Filled missing values in '{col}' with mean: {df[col].mean()}\")\n",
        "\n",
        "  elif df[col].dtype == \"object\":\n",
        "        #categorical columns\n",
        "        df[col].fillna(df[col].mode()[0])\n",
        "        print(f\"Filled missing values in '{col}' with mode: {df[col].mode()[0]}\")\n",
        ""
      ],
      "metadata": {
        "colab": {
          "base_uri": "https://localhost:8080/"
        },
        "id": "GmKN9HMi8-d7",
        "outputId": "ee4455a4-d0ad-4dc1-bc8e-ae6b94e3f35b"
      },
      "execution_count": 9,
      "outputs": [
        {
          "output_type": "stream",
          "name": "stdout",
          "text": [
            "Filled missing values in 'age' with mean: 40.93621021432837\n",
            "Filled missing values in 'job' with mode: blue-collar\n",
            "Filled missing values in 'marital' with mode: married\n",
            "Filled missing values in 'education' with mode: secondary\n",
            "Filled missing values in 'default' with mode: no\n",
            "Filled missing values in 'balance' with mean: 1362.2720576850766\n",
            "Filled missing values in 'housing' with mode: yes\n",
            "Filled missing values in 'loan' with mode: no\n",
            "Filled missing values in 'contact' with mode: cellular\n",
            "Filled missing values in 'day' with mean: 15.80641879188693\n",
            "Filled missing values in 'month' with mode: may\n",
            "Filled missing values in 'duration' with mean: 258.1630797814691\n",
            "Filled missing values in 'campaign' with mean: 2.763840658246887\n",
            "Filled missing values in 'pdays' with mean: 40.19782796222158\n",
            "Filled missing values in 'previous' with mean: 0.5803233726305546\n",
            "Filled missing values in 'poutcome' with mode: unknown\n",
            "Filled missing values in 'y' with mode: no\n"
          ]
        }
      ]
    },
    {
      "cell_type": "code",
      "source": [
        "#4\n",
        "dup=df.duplicated().sum()\n",
        "print(dup)"
      ],
      "metadata": {
        "colab": {
          "base_uri": "https://localhost:8080/"
        },
        "id": "F39C9xxa9L-r",
        "outputId": "f57f3e31-777c-4a63-ae7e-3107694e05e7"
      },
      "execution_count": 10,
      "outputs": [
        {
          "output_type": "stream",
          "name": "stdout",
          "text": [
            "0\n"
          ]
        }
      ]
    },
    {
      "cell_type": "code",
      "source": [
        "#3.2\n",
        "#problem1\n",
        "import pandas as pd\n",
        "df_Titanic = pd.read_csv('/content/drive/MyDrive/Concept and technologies of AI/Titanic-Dataset.csv')\n",
        "df_Titanic.info()\n",
        "\n",
        "subset_df = df_Titanic[['Name', 'Pclass', 'Sex', 'Age', 'Fare', 'Survived']]\n",
        "\n",
        "first_class = subset_df[subset_df['Pclass'] == 1]\n",
        "\n",
        "mean_fare = first_class['Fare'].mean()\n",
        "median_fare = first_class['Fare'].median()\n",
        "max_fare = first_class['Fare'].max()\n",
        "min_fare = first_class['Fare'].min()\n",
        "\n",
        "print(f\"Mean Fare: {mean_fare}\")\n",
        "print(f\"Median Fare: {median_fare}\")\n",
        "print(f\"Maximum Fare: {max_fare}\")\n",
        "print(f\"Minimum Fare: {min_fare}\")"
      ],
      "metadata": {
        "colab": {
          "base_uri": "https://localhost:8080/"
        },
        "id": "MRXq52wS9dqZ",
        "outputId": "92a24950-be5c-4632-c0fd-1b0ba48e8607"
      },
      "execution_count": 11,
      "outputs": [
        {
          "output_type": "stream",
          "name": "stdout",
          "text": [
            "<class 'pandas.core.frame.DataFrame'>\n",
            "RangeIndex: 891 entries, 0 to 890\n",
            "Data columns (total 12 columns):\n",
            " #   Column       Non-Null Count  Dtype  \n",
            "---  ------       --------------  -----  \n",
            " 0   PassengerId  891 non-null    int64  \n",
            " 1   Survived     891 non-null    int64  \n",
            " 2   Pclass       891 non-null    int64  \n",
            " 3   Name         891 non-null    object \n",
            " 4   Sex          891 non-null    object \n",
            " 5   Age          714 non-null    float64\n",
            " 6   SibSp        891 non-null    int64  \n",
            " 7   Parch        891 non-null    int64  \n",
            " 8   Ticket       891 non-null    object \n",
            " 9   Fare         891 non-null    float64\n",
            " 10  Cabin        204 non-null    object \n",
            " 11  Embarked     889 non-null    object \n",
            "dtypes: float64(2), int64(5), object(5)\n",
            "memory usage: 83.7+ KB\n",
            "Mean Fare: 84.1546875\n",
            "Median Fare: 60.287499999999994\n",
            "Maximum Fare: 512.3292\n",
            "Minimum Fare: 0.0\n"
          ]
        }
      ]
    },
    {
      "cell_type": "code",
      "source": [
        "\n",
        "null_age = subset_df['Age'].isnull().sum()\n",
        "print(f\"Number of null values in 'Age': {null_age}\")\n",
        "\n",
        "#dropping rows with null values in the 'Age' column\n",
        "subset_df = subset_df.dropna(subset=['Age'])\n",
        "print(f\"Rows remaining after dropping nulls: {len(subset_df)}\")"
      ],
      "metadata": {
        "colab": {
          "base_uri": "https://localhost:8080/"
        },
        "id": "2ra6cSce9zoC",
        "outputId": "8ae54f35-0a01-46a5-8ada-1367a00583a5"
      },
      "execution_count": 13,
      "outputs": [
        {
          "output_type": "stream",
          "name": "stdout",
          "text": [
            "Number of null values in 'Age': 177\n",
            "Rows remaining after dropping nulls: 714\n"
          ]
        }
      ]
    },
    {
      "cell_type": "code",
      "source": [
        "#3\n",
        "print(df_Titanic.columns)\n",
        "one_hot_encoded = pd.get_dummies(df_Titanic['Embarked'], prefix='Embarked')\n",
        "\n",
        "df_encoded = pd.concat([df_Titanic, one_hot_encoded], axis=1)\n",
        "print(df_encoded.columns)\n",
        "\n",
        "\n",
        "dfDrop = df_Titanic.drop(columns=['Embarked'])\n",
        "print(\"\\n modified dataframe:\\n\",dfDrop.head(4))"
      ],
      "metadata": {
        "colab": {
          "base_uri": "https://localhost:8080/"
        },
        "id": "NStOsPDI97e3",
        "outputId": "0b7c2a69-1304-47b7-8db4-55c05dbb1649"
      },
      "execution_count": 14,
      "outputs": [
        {
          "output_type": "stream",
          "name": "stdout",
          "text": [
            "Index(['PassengerId', 'Survived', 'Pclass', 'Name', 'Sex', 'Age', 'SibSp',\n",
            "       'Parch', 'Ticket', 'Fare', 'Cabin', 'Embarked'],\n",
            "      dtype='object')\n",
            "Index(['PassengerId', 'Survived', 'Pclass', 'Name', 'Sex', 'Age', 'SibSp',\n",
            "       'Parch', 'Ticket', 'Fare', 'Cabin', 'Embarked', 'Embarked_C',\n",
            "       'Embarked_Q', 'Embarked_S'],\n",
            "      dtype='object')\n",
            "\n",
            " modified dataframe:\n",
            "    PassengerId  Survived  Pclass  \\\n",
            "0            1         0       3   \n",
            "1            2         1       1   \n",
            "2            3         1       3   \n",
            "3            4         1       1   \n",
            "\n",
            "                                                Name     Sex   Age  SibSp  \\\n",
            "0                            Braund, Mr. Owen Harris    male  22.0      1   \n",
            "1  Cumings, Mrs. John Bradley (Florence Briggs Th...  female  38.0      1   \n",
            "2                             Heikkinen, Miss. Laina  female  26.0      0   \n",
            "3       Futrelle, Mrs. Jacques Heath (Lily May Peel)  female  35.0      1   \n",
            "\n",
            "   Parch            Ticket     Fare Cabin  \n",
            "0      0         A/5 21171   7.2500   NaN  \n",
            "1      0          PC 17599  71.2833   C85  \n",
            "2      0  STON/O2. 3101282   7.9250   NaN  \n",
            "3      0            113803  53.1000  C123  \n"
          ]
        }
      ]
    },
    {
      "cell_type": "code",
      "source": [
        "\n",
        "#4\n",
        "import pandas as pd\n",
        "import matplotlib.pyplot as plt\n",
        "import seaborn as sns\n",
        "\n",
        "df = pd.read_csv('/content/drive/MyDrive/Concept and technologies of AI/Titanic-Dataset.csv')\n",
        "mean_survival_by_gender = df.groupby('Sex')['Survived'].mean()\n",
        "print(\"Mean survival rates by gender:\")\n",
        "print(mean_survival_by_gender)\n",
        "\n",
        "sns.barplot(x='Sex', y='Survived', data=df_Titanic, ci=None)\n",
        "plt.title('Survival Rates by Gender')\n",
        "plt.xlabel('Gender')\n",
        "plt.ylabel('Survival Rate')\n",
        "plt.show()"
      ],
      "metadata": {
        "colab": {
          "base_uri": "https://localhost:8080/",
          "height": 645
        },
        "id": "93b8onPT-LLq",
        "outputId": "35ca1a2a-81d0-4863-9a56-944bdce280af"
      },
      "execution_count": 25,
      "outputs": [
        {
          "output_type": "stream",
          "name": "stdout",
          "text": [
            "Mean survival rates by gender:\n",
            "Sex\n",
            "female    0.742038\n",
            "male      0.188908\n",
            "Name: Survived, dtype: float64\n"
          ]
        },
        {
          "output_type": "stream",
          "name": "stderr",
          "text": [
            "<ipython-input-25-ac0b4a9d3947>:11: FutureWarning: \n",
            "\n",
            "The `ci` parameter is deprecated. Use `errorbar=None` for the same effect.\n",
            "\n",
            "  sns.barplot(x='Sex', y='Survived', data=df_Titanic, ci=None)\n"
          ]
        },
        {
          "output_type": "display_data",
          "data": {
            "text/plain": [
              "<Figure size 640x480 with 1 Axes>"
            ],
            "image/png": "[encoded data removed]"
          },
          "metadata": {}
        }
      ]
    },
    {
      "cell_type": "code",
      "source": [
        "#5\n",
        "import seaborn as sns\n",
        "mean_survival_by_port = df.groupby('Embarked')['Survived'].mean()\n",
        "print(\"Mean survival rates by port of embarkation:\")\n",
        "print(mean_survival_by_port)\n",
        "\n",
        "sns.barplot(x='Embarked', y='Survived', data=df_Titanic, ci=None)\n",
        "plt.title('Survival Rates by Port of Embarkation')\n",
        "plt.xlabel('Port of Embarkation')\n",
        "plt.ylabel('Survival Rate')\n",
        "plt.show()\n",
        ""
      ],
      "metadata": {
        "colab": {
          "base_uri": "https://localhost:8080/",
          "height": 662
        },
        "id": "SjeQe3R6-UXg",
        "outputId": "bc86a1ae-e77b-4f2b-b6f4-0f9caf987990"
      },
      "execution_count": 26,
      "outputs": [
        {
          "output_type": "stream",
          "name": "stdout",
          "text": [
            "Mean survival rates by port of embarkation:\n",
            "Embarked\n",
            "C    0.553571\n",
            "Q    0.389610\n",
            "S    0.336957\n",
            "Name: Survived, dtype: float64\n"
          ]
        },
        {
          "output_type": "stream",
          "name": "stderr",
          "text": [
            "<ipython-input-26-8842c6748c44>:7: FutureWarning: \n",
            "\n",
            "The `ci` parameter is deprecated. Use `errorbar=None` for the same effect.\n",
            "\n",
            "  sns.barplot(x='Embarked', y='Survived', data=df_Titanic, ci=None)\n"
          ]
        },
        {
          "output_type": "display_data",
          "data": {
            "text/plain": [
              "<Figure size 640x480 with 1 Axes>"
            ],
            "image/png": "[encoded data removed]"
          },
          "metadata": {}
        }
      ]
    },
    {
      "cell_type": "code",
      "source": [],
      "metadata": {
        "id": "qx_O4sWsAb1w"
      },
      "execution_count": null,
      "outputs": []
    }
  ]
}